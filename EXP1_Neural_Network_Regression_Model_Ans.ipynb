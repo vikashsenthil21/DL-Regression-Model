{
  "nbformat": 4,
  "nbformat_minor": 0,
  "metadata": {
    "colab": {
      "private_outputs": true,
      "provenance": []
    },
    "kernelspec": {
      "name": "python3",
      "display_name": "Python 3"
    },
    "language_info": {
      "name": "python"
    }
  },
  "cells": [
    {
      "cell_type": "markdown",
      "source": [
        "NAME: VIKASH S\n",
        "\n",
        "\n",
        "\n",
        "\n",
        "REGISTOR NO: 212222240115"
      ],
      "metadata": {
        "id": "jMdo2wFccGUa"
      }
    },
    {
      "cell_type": "code",
      "execution_count": null,
      "metadata": {
        "id": "SPm6gALBYtQe"
      },
      "outputs": [],
      "source": [
        "import torch\n",
        "import torch.nn as nn\n",
        "import numpy as np\n",
        "import matplotlib.pyplot as plt\n",
        "%matplotlib inline"
      ]
    },
    {
      "cell_type": "code",
      "source": [
        "X = torch.linspace(1,50,50).reshape(-1,1)"
      ],
      "metadata": {
        "id": "IvWNwiwnaTkJ"
      },
      "execution_count": null,
      "outputs": []
    },
    {
      "cell_type": "code",
      "source": [
        "torch.manual_seed(71)\n",
        "e = torch.randint(-8,9,(50,1),dtype=torch.float)"
      ],
      "metadata": {
        "id": "kJCSU2htaYE_"
      },
      "execution_count": null,
      "outputs": []
    },
    {
      "cell_type": "code",
      "source": [
        "y = 2*X + 1 + e\n",
        "print(y.shape)\n",
        ""
      ],
      "metadata": {
        "id": "ZG7kCpr3abZE"
      },
      "execution_count": null,
      "outputs": []
    },
    {
      "cell_type": "code",
      "source": [
        "plt.scatter(X.numpy(), y.numpy(),color='red')\n",
        "plt.xlabel('x')\n",
        "plt.ylabel('y')\n",
        "plt.title('Generated Data for Linear Regression')\n",
        "plt.show()"
      ],
      "metadata": {
        "id": "ACtfgJpSad8m"
      },
      "execution_count": null,
      "outputs": []
    },
    {
      "cell_type": "code",
      "source": [
        "torch.manual_seed(59)\n",
        "\n",
        "class Model(nn.Module):\n",
        "    def __init__(self, in_features, out_features):\n",
        "        super().__init__()\n",
        "        self.linear = nn.Linear(in_features, out_features)\n",
        "\n",
        "    def forward(self, x):\n",
        "        y_pred = self.linear(x)\n",
        "        return y_pred"
      ],
      "metadata": {
        "id": "-R12eW7eagVg"
      },
      "execution_count": null,
      "outputs": []
    },
    {
      "cell_type": "code",
      "source": [
        "\n",
        "torch.manual_seed(59)\n",
        "model = Model(1, 1)\n",
        "print('Weight:', model.linear.weight.item())\n",
        "print('Bias:  ', model.linear.bias.item())"
      ],
      "metadata": {
        "id": "tNvyrVemamNd"
      },
      "execution_count": null,
      "outputs": []
    },
    {
      "cell_type": "code",
      "source": [
        "loss_function = nn.MSELoss()\n",
        "\n",
        "optimizer = torch.optim.SGD(model.parameters(), lr=0.001)"
      ],
      "metadata": {
        "id": "eykt5-mUapnr"
      },
      "execution_count": null,
      "outputs": []
    },
    {
      "cell_type": "code",
      "source": [
        "epochs = 50\n",
        "losses = []\n",
        "\n",
        "for epoch in range(1, epochs + 1):\n",
        "    optimizer.zero_grad()\n",
        "    y_pred = model(X)\n",
        "    loss = loss_function(y_pred, y)\n",
        "    losses.append(loss.item())\n",
        "    loss.backward()\n",
        "    optimizer.step()\n",
        "    print(f'epoch: {epoch:2}  loss: {loss.item():10.8f}  '\n",
        "          f'weight: {model.linear.weight.item():10.8f}  '\n",
        "          f'bias: {model.linear.bias.item():10.8f}')"
      ],
      "metadata": {
        "id": "6IiuVvYIaprG"
      },
      "execution_count": null,
      "outputs": []
    },
    {
      "cell_type": "code",
      "source": [
        "plt.plot(range(epochs), losses)\n",
        "plt.ylabel('Loss')\n",
        "plt.xlabel('epoch');\n",
        "plt.show()"
      ],
      "metadata": {
        "id": "JzynxG4TbgtY"
      },
      "execution_count": null,
      "outputs": []
    },
    {
      "cell_type": "code",
      "source": [
        "x1 = torch.tensor([X.min().item(), X.max().item()])\n",
        "w1, b1 = model.linear.weight.item(), model.linear.bias.item()\n",
        "y1 = x1 * w1 + b1"
      ],
      "metadata": {
        "id": "UIp18EC0bqTE"
      },
      "execution_count": null,
      "outputs": []
    },
    {
      "cell_type": "code",
      "source": [
        "print(f'Final Weight: {w1:.8f}, Final Bias: {b1:.8f}')\n",
        "print(f'X range: {x1.numpy()}')\n",
        "print(f'Predicted Y values: {y1.numpy()}')"
      ],
      "metadata": {
        "id": "nKGHtcBJb6nx"
      },
      "execution_count": null,
      "outputs": []
    },
    {
      "cell_type": "code",
      "source": [
        "plt.scatter(X.numpy(), y.numpy(), label=\"Original Data\")\n",
        "plt.plot(x1.numpy(), y1.numpy(), 'r', label=\"Best-Fit Line\")\n",
        "plt.xlabel('x')\n",
        "plt.ylabel('y')\n",
        "plt.title('Trained Model: Best-Fit Line')\n",
        "plt.legend()\n",
        "plt.show()"
      ],
      "metadata": {
        "id": "6kkRML1kb9kB"
      },
      "execution_count": null,
      "outputs": []
    },
    {
      "cell_type": "code",
      "source": [
        "torch.save(model.state_dict(), 'Barath DeepLearning.pt')"
      ],
      "metadata": {
        "id": "CMC1TbxOcAjb"
      },
      "execution_count": null,
      "outputs": []
    },
    {
      "cell_type": "markdown",
      "source": [
        "NAME: VIKASH S\n",
        "\n",
        "REGISTOR NO: 212222240115"
      ],
      "metadata": {
        "id": "oA17ZIsdcVCJ"
      }
    }
  ]
}